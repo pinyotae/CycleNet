{
 "cells": [
  {
   "cell_type": "code",
   "execution_count": 9,
   "metadata": {},
   "outputs": [],
   "source": [
    "import numpy as np\n",
    "import pandas as pd"
   ]
  },
  {
   "cell_type": "code",
   "execution_count": 12,
   "metadata": {},
   "outputs": [],
   "source": [
    "cyclenet_folder = \"C:/Users/pinyo/OneDrive/_ResearchLabs/TimeSeries/CycleNet-main\"\n",
    "output_folder = f\"{cyclenet_folder}/results/ETTh1_seq_336_pred_96_cycle_24_CycleNet_ETTh1_ftM_sl336_pl96_cycle24_linear_seed2024\"\n",
    "column_names = [\"HUFL\",\t\"HULL\",\t\"MUFL\",\t\"MULL\",\t\"LUFL\",\t\"LULL\",\t\"OT\"]"
   ]
  },
  {
   "cell_type": "code",
   "execution_count": 11,
   "metadata": {},
   "outputs": [
    {
     "name": "stdout",
     "output_type": "stream",
     "text": [
      "(1, 96, 7)\n",
      "[ 0.47008348 -0.42764175  0.4745036  -0.4482206   0.14136109 -0.26366338\n",
      " -0.09325729]\n"
     ]
    }
   ],
   "source": [
    "a = np.load(file=f\"{output_folder}/real_prediction.npy\")\n",
    "print(a.shape)\n",
    "print(a[0, 0, :])"
   ]
  },
  {
   "cell_type": "code",
   "execution_count": 8,
   "metadata": {},
   "outputs": [
    {
     "name": "stdout",
     "output_type": "stream",
     "text": [
      "(96, 7)\n",
      "[10.451516   3.7977793  6.458499   1.8992054  3.8311038  1.3486248\n",
      "  9.389649 ]\n"
     ]
    }
   ],
   "source": [
    "b = np.load(file=f\"{output_folder}/inv_scaled_prediction.npy\")\n",
    "print(b.shape)\n",
    "df_b = pd.DataFrame(b, columns=column_names)\n",
    "print(b[0, :])"
   ]
  },
  {
   "cell_type": "code",
   "execution_count": null,
   "metadata": {},
   "outputs": [],
   "source": []
  }
 ],
 "metadata": {
  "kernelspec": {
   "display_name": "Python 3",
   "language": "python",
   "name": "python3"
  },
  "language_info": {
   "codemirror_mode": {
    "name": "ipython",
    "version": 3
   },
   "file_extension": ".py",
   "mimetype": "text/x-python",
   "name": "python",
   "nbconvert_exporter": "python",
   "pygments_lexer": "ipython3",
   "version": "3.11.9"
  }
 },
 "nbformat": 4,
 "nbformat_minor": 2
}
